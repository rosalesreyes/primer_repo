{
 "cells": [
  {
   "cell_type": "markdown",
   "metadata": {},
   "source": [
    "### Luis René Rosales Reyes"
   ]
  },
  {
   "cell_type": "markdown",
   "metadata": {},
   "source": [
    "#### 1. Importar librerías"
   ]
  },
  {
   "cell_type": "code",
   "execution_count": 16,
   "metadata": {},
   "outputs": [],
   "source": [
    "import pandas as pd\n",
    "import numpy as np\n",
    "import io\n",
    "import requests"
   ]
  },
  {
   "cell_type": "markdown",
   "metadata": {},
   "source": [
    "#### 2. Importar archivos"
   ]
  },
  {
   "cell_type": "code",
   "execution_count": 17,
   "metadata": {},
   "outputs": [],
   "source": [
    "# train = pd.read_csv(\"/Users/luisrosalesreyes/Diplomado-ITAM/modulo python/train.csv\")\n",
    "# test = pd.read_csv(\"/Users/luisrosalesreyes/Diplomado-ITAM/modulo python/test.csv\")\n",
    "\n",
    "url1 = \"https://s3-ap-southeast-1.amazonaws.com/av-datahack-datacamp/train.csv\"\n",
    "s1 = requests.get(url1).content\n",
    "train = pd.read_csv(io.StringIO(s1.decode('utf-8')))\n",
    "\n",
    "url2 = \"https://s3-ap-southeast-1.amazonaws.com/av-datahack-datacamp/test.csv\"\n",
    "s2 = requests.get(url2).content\n",
    "test = pd.read_csv(io.StringIO(s2.decode('utf-8')))"
   ]
  },
  {
   "cell_type": "markdown",
   "metadata": {},
   "source": [
    "#### Descripción general de los datos."
   ]
  },
  {
   "cell_type": "markdown",
   "metadata": {},
   "source": [
    "| Nombre_Columna    \t| Descripción                                       \t| Posibles Valores         \t| Tipo de dato \t|\n",
    "|-------------------\t|---------------------------------------------------\t|--------------------------\t|--------------\t|\n",
    "| Loan_ID           \t| Id del préstamo                                   \t| Rango(LP001002-LP002990) \t| Ordinal      \t|\n",
    "| Gender            \t| Género                                            \t| Male, Female             \t| Categórica   \t|\n",
    "| Married           \t| Estado civil                                      \t| Yes, No                  \t| Categórica   \t|\n",
    "| Dependents        \t| Número de dependientes económicos                 \t| 0, 1, 2, 3+              \t| Numérica     \t|\n",
    "| Education         \t| Grado máximo de estudios del solicitante          \t| Graduate, Not Graduate   \t| Categórica   \t|\n",
    "| Self_Employed     \t| Trabajador Independiente                          \t| Yes, No                  \t| Categórica   \t|\n",
    "| ApplicantIncome   \t| Sueldo del solicitante                            \t| Rango(150-81000)         \t| Numérica     \t|\n",
    "| CoapplicantIncome \t| Sueldo del co-solicitante                         \t| Rango(0-41667)           \t| Numérica     \t|\n",
    "| LoanAmount        \t| Monto del préstamo                                \t| Rango(9-700)             \t| Numérica     \t|\n",
    "| Credit_History    \t| Historial Crediticio                              \t| 1, 0                     \t| Categórica   \t|\n",
    "| Property_Area     \t| Tipo de zona geográfica donde vive el solicitante \t| Rural, Semiurban, Urban  \t| Categórica   \t|\n",
    "| Loan_Status       \t| Crédito otorgado                                  \t| N, Y                     \t| Categórica   \t|"
   ]
  },
  {
   "cell_type": "markdown",
   "metadata": {},
   "source": [
    "#### 3. ¿Cuántas observaciones se tienen en cada dataset?  ¿Cuántas columnas (puedes usar dataframe.columns)? "
   ]
  },
  {
   "cell_type": "code",
   "execution_count": 18,
   "metadata": {},
   "outputs": [
    {
     "name": "stdout",
     "output_type": "stream",
     "text": [
      "Train es del tipo: <class 'pandas.core.frame.DataFrame'>\n",
      "Test es del tipo: <class 'pandas.core.frame.DataFrame'>\n",
      "\n",
      "\n",
      "Train tiene: 614 observaciones y 13 columnas.\n",
      "Test tiene: 367 observaciones y 12 columnas.\n"
     ]
    }
   ],
   "source": [
    "print(\"Train es del tipo: \" + str(type(train)))\n",
    "print( \"Test es del tipo: \" + str(type(test)))\n",
    "print(\"\\n\")\n",
    "print(\"Train tiene: \" + str(train.shape[0]) + \" observaciones y \" + str(train.shape[1]) + \" columnas.\")\n",
    "print( \"Test tiene: \" + str(test.shape[0]) + \" observaciones y \" + str(test.shape[1]) + \" columnas.\")\n"
   ]
  },
  {
   "cell_type": "markdown",
   "metadata": {},
   "source": [
    "#### Alternativa para numero de obsevaciones "
   ]
  },
  {
   "cell_type": "code",
   "execution_count": 19,
   "metadata": {},
   "outputs": [
    {
     "name": "stdout",
     "output_type": "stream",
     "text": [
      "Train tiene: 614 observaciones.\n",
      "Test tiene: 367 observaciones.\n",
      "\n",
      "\n",
      "Train tiene las siguientes variables: \n",
      "['Loan_ID', 'Gender', 'Married', 'Dependents', 'Education', 'Self_Employed', 'ApplicantIncome', 'CoapplicantIncome', 'LoanAmount', 'Loan_Amount_Term', 'Credit_History', 'Property_Area', 'Loan_Status']\n",
      "\n",
      "\n",
      "Test tiene las siguientes variables: \n",
      "['Loan_ID', 'Gender', 'Married', 'Dependents', 'Education', 'Self_Employed', 'ApplicantIncome', 'CoapplicantIncome', 'LoanAmount', 'Loan_Amount_Term', 'Credit_History', 'Property_Area']\n"
     ]
    }
   ],
   "source": [
    "print(\"Train tiene: \" + str(len(train)) + \" observaciones.\")\n",
    "print( \"Test tiene: \" + str(len(test)) + \" observaciones.\")\n",
    "\n",
    "print(\"\\n\")\n",
    "print(\"Train tiene las siguientes variables: \")\n",
    "print(str(list(train.columns)))\n",
    "\n",
    "print(\"\\n\")\n",
    "print(\"Test tiene las siguientes variables: \")\n",
    "print(str(list(test.columns)))\n"
   ]
  },
  {
   "cell_type": "markdown",
   "metadata": {},
   "source": [
    "#### 4. ¿Cuáles son los primeros 5 registros?"
   ]
  },
  {
   "cell_type": "code",
   "execution_count": 59,
   "metadata": {},
   "outputs": [
    {
     "name": "stdout",
     "output_type": "stream",
     "text": [
      "Las primeras 5 observaciones de train son:\n",
      "\n",
      "\n",
      "    Loan_ID Gender Married Dependents     Education Self_Employed  \\\n",
      "0  LP001002   Male      No          0      Graduate            No   \n",
      "1  LP001003   Male     Yes          1      Graduate            No   \n",
      "2  LP001005   Male     Yes          0      Graduate           Yes   \n",
      "3  LP001006   Male     Yes          0  Not Graduate            No   \n",
      "4  LP001008   Male      No          0      Graduate            No   \n",
      "\n",
      "   ApplicantIncome  CoapplicantIncome  LoanAmount  Loan_Amount_Term  \\\n",
      "0             5849                0.0         NaN             360.0   \n",
      "1             4583             1508.0       128.0             360.0   \n",
      "2             3000                0.0        66.0             360.0   \n",
      "3             2583             2358.0       120.0             360.0   \n",
      "4             6000                0.0       141.0             360.0   \n",
      "\n",
      "   Credit_History Property_Area Loan_Status  \n",
      "0             1.0         Urban           Y  \n",
      "1             1.0         Rural           N  \n",
      "2             1.0         Urban           Y  \n",
      "3             1.0         Urban           Y  \n",
      "4             1.0         Urban           Y  \n",
      "\n",
      "\n",
      "Las primeras 5 observaciones de test son:\n",
      "\n",
      "\n",
      "    Loan_ID Gender Married Dependents     Education Self_Employed  \\\n",
      "0  LP001015   Male     Yes          0      Graduate            No   \n",
      "1  LP001022   Male     Yes          1      Graduate            No   \n",
      "2  LP001031   Male     Yes          2      Graduate            No   \n",
      "3  LP001035   Male     Yes          2      Graduate            No   \n",
      "4  LP001051   Male      No          0  Not Graduate            No   \n",
      "\n",
      "   ApplicantIncome  CoapplicantIncome  LoanAmount  Loan_Amount_Term  \\\n",
      "0             5720                  0       110.0             360.0   \n",
      "1             3076               1500       126.0             360.0   \n",
      "2             5000               1800       208.0             360.0   \n",
      "3             2340               2546       100.0             360.0   \n",
      "4             3276                  0        78.0             360.0   \n",
      "\n",
      "   Credit_History Property_Area  \n",
      "0             1.0         Urban  \n",
      "1             1.0         Urban  \n",
      "2             1.0         Urban  \n",
      "3             NaN         Urban  \n",
      "4             1.0         Urban  \n",
      "\n",
      "\n",
      "El valor de la tercer observaión de la variable ApplicantIncome es:\n",
      "3000\n",
      "3000\n"
     ]
    }
   ],
   "source": [
    "print(\"Las primeras 5 observaciones de train son:\")\n",
    "print(\"\\n\")\n",
    "print(train.head(5))\n",
    "\n",
    "print(\"\\n\")\n",
    "print(\"Las primeras 5 observaciones de test son:\")\n",
    "print(\"\\n\")\n",
    "print(test.head(5))\n",
    "\n",
    "print(\"\\n\")\n",
    "print(\"El valor de la tercer observaión de la variable ApplicantIncome es:\")\n",
    "print(train.iloc[2][6])\n",
    "print(train.loc[2]['ApplicantIncome'])"
   ]
  },
  {
   "cell_type": "markdown",
   "metadata": {},
   "source": [
    "#### 5. Observa cuántos Nas tienes por columna y por fila (usa la función que vimos para hacerlo para todas las columnas/filas de una vez). Elimina las filas en donde haya valores nulos."
   ]
  },
  {
   "cell_type": "code",
   "execution_count": 21,
   "metadata": {},
   "outputs": [
    {
     "name": "stdout",
     "output_type": "stream",
     "text": [
      "\n",
      "\n",
      "En la base train el número total de missing es: 149\n",
      "En la base test el número total de missing es: 84\n",
      "\n",
      "\n",
      "En la base train el número de missing por columna es:\n",
      "Loan_ID               0\n",
      "Gender               13\n",
      "Married               3\n",
      "Dependents           15\n",
      "Education             0\n",
      "Self_Employed        32\n",
      "ApplicantIncome       0\n",
      "CoapplicantIncome     0\n",
      "LoanAmount           22\n",
      "Loan_Amount_Term     14\n",
      "Credit_History       50\n",
      "Property_Area         0\n",
      "Loan_Status           0\n",
      "dtype: int64\n",
      "\n",
      "\n",
      "En la base test el número de missing por columna es:\n",
      "Loan_ID               0\n",
      "Gender               11\n",
      "Married               0\n",
      "Dependents           10\n",
      "Education             0\n",
      "Self_Employed        23\n",
      "ApplicantIncome       0\n",
      "CoapplicantIncome     0\n",
      "LoanAmount            5\n",
      "Loan_Amount_Term      6\n",
      "Credit_History       29\n",
      "Property_Area         0\n",
      "dtype: int64\n",
      "\n",
      "\n",
      "En la base train el número de missing por observación es:\n",
      "0      1\n",
      "1      0\n",
      "2      0\n",
      "3      0\n",
      "4      0\n",
      "5      0\n",
      "6      0\n",
      "7      0\n",
      "8      0\n",
      "9      0\n",
      "10     0\n",
      "11     1\n",
      "12     0\n",
      "13     0\n",
      "14     0\n",
      "15     0\n",
      "16     1\n",
      "17     0\n",
      "18     0\n",
      "19     2\n",
      "20     0\n",
      "21     0\n",
      "22     0\n",
      "23     1\n",
      "24     2\n",
      "25     0\n",
      "26     0\n",
      "27     0\n",
      "28     0\n",
      "29     1\n",
      "      ..\n",
      "584    0\n",
      "585    0\n",
      "586    0\n",
      "587    0\n",
      "588    1\n",
      "589    0\n",
      "590    0\n",
      "591    0\n",
      "592    1\n",
      "593    0\n",
      "594    0\n",
      "595    0\n",
      "596    0\n",
      "597    1\n",
      "598    0\n",
      "599    0\n",
      "600    2\n",
      "601    1\n",
      "602    0\n",
      "603    0\n",
      "604    0\n",
      "605    1\n",
      "606    0\n",
      "607    0\n",
      "608    0\n",
      "609    0\n",
      "610    0\n",
      "611    0\n",
      "612    0\n",
      "613    0\n",
      "Length: 614, dtype: int64\n",
      "\n",
      "\n",
      "En la base test el número de missing por observación es:\n",
      "0      0\n",
      "1      0\n",
      "2      0\n",
      "3      1\n",
      "4      0\n",
      "5      0\n",
      "6      0\n",
      "7      0\n",
      "8      1\n",
      "9      0\n",
      "10     0\n",
      "11     1\n",
      "12     1\n",
      "13     1\n",
      "14     0\n",
      "15     0\n",
      "16     0\n",
      "17     0\n",
      "18     0\n",
      "19     0\n",
      "20     0\n",
      "21     0\n",
      "22     1\n",
      "23     0\n",
      "24     0\n",
      "25     0\n",
      "26     1\n",
      "27     0\n",
      "28     1\n",
      "29     0\n",
      "      ..\n",
      "337    0\n",
      "338    0\n",
      "339    0\n",
      "340    0\n",
      "341    0\n",
      "342    0\n",
      "343    0\n",
      "344    0\n",
      "345    0\n",
      "346    0\n",
      "347    0\n",
      "348    0\n",
      "349    0\n",
      "350    0\n",
      "351    1\n",
      "352    0\n",
      "353    0\n",
      "354    0\n",
      "355    0\n",
      "356    0\n",
      "357    0\n",
      "358    1\n",
      "359    0\n",
      "360    1\n",
      "361    0\n",
      "362    0\n",
      "363    0\n",
      "364    1\n",
      "365    0\n",
      "366    0\n",
      "Length: 367, dtype: int64\n",
      "\n",
      "\n",
      "Se eliminan en ambas bases las observaciones con al menos un missing\n",
      "\n",
      "\n",
      "En la base test el número de missing por observación es:\n"
     ]
    },
    {
     "data": {
      "text/plain": [
       "1      0\n",
       "2      0\n",
       "3      0\n",
       "4      0\n",
       "5      0\n",
       "6      0\n",
       "7      0\n",
       "8      0\n",
       "9      0\n",
       "10     0\n",
       "12     0\n",
       "13     0\n",
       "14     0\n",
       "15     0\n",
       "17     0\n",
       "18     0\n",
       "20     0\n",
       "21     0\n",
       "22     0\n",
       "25     0\n",
       "26     0\n",
       "27     0\n",
       "28     0\n",
       "31     0\n",
       "32     0\n",
       "33     0\n",
       "34     0\n",
       "37     0\n",
       "38     0\n",
       "39     0\n",
       "      ..\n",
       "575    0\n",
       "577    0\n",
       "578    0\n",
       "580    0\n",
       "581    0\n",
       "582    0\n",
       "584    0\n",
       "585    0\n",
       "586    0\n",
       "587    0\n",
       "589    0\n",
       "590    0\n",
       "591    0\n",
       "593    0\n",
       "594    0\n",
       "595    0\n",
       "596    0\n",
       "598    0\n",
       "599    0\n",
       "602    0\n",
       "603    0\n",
       "604    0\n",
       "606    0\n",
       "607    0\n",
       "608    0\n",
       "609    0\n",
       "610    0\n",
       "611    0\n",
       "612    0\n",
       "613    0\n",
       "Length: 480, dtype: int64"
      ]
     },
     "execution_count": 21,
     "metadata": {},
     "output_type": "execute_result"
    }
   ],
   "source": [
    "print(\"\\n\")\n",
    "print(\"En la base train el número total de missing es: \" + str(train.isnull().sum().sum()))\n",
    "print(\"En la base test el número total de missing es: \" + str(test.isnull().sum().sum()))\n",
    "\n",
    "print(\"\\n\")\n",
    "print(\"En la base train el número de missing por columna es:\")\n",
    "print(str(train.isnull().sum(axis=0)))\n",
    "\n",
    "print(\"\\n\")\n",
    "print(\"En la base test el número de missing por columna es:\")\n",
    "print(str(test.isnull().sum(axis=0)))\n",
    "\n",
    "print(\"\\n\")\n",
    "print(\"En la base train el número de missing por observación es:\")\n",
    "print(str(train.isnull().sum(axis=1)))\n",
    "\n",
    "print(\"\\n\")\n",
    "print(\"En la base test el número de missing por observación es:\")\n",
    "print(str(test.isnull().sum(axis=1)))\n",
    "print(\"\\n\")\n",
    "\n",
    "print(\"Se eliminan en ambas bases las observaciones con al menos un missing\")\n",
    "train2=train.dropna()\n",
    "test2=test.dropna()\n",
    "\n",
    "print(\"\\n\")\n",
    "print(\"En la base test el número de missing por observación es:\")\n",
    "test2.isnull().sum(axis=1)\n",
    "train2.isnull().sum(axis=1)"
   ]
  },
  {
   "cell_type": "markdown",
   "metadata": {},
   "source": [
    "#### 6. Recodifica a 0-1 las variables categóricas que estén siendo tratadas como strings. Usa la función replace que vimos, con un diccionario para hacer esto."
   ]
  },
  {
   "cell_type": "code",
   "execution_count": 22,
   "metadata": {},
   "outputs": [
    {
     "name": "stderr",
     "output_type": "stream",
     "text": [
      "/Users/luisrosalesreyes/anaconda3/lib/python3.6/site-packages/pandas/core/generic.py:4619: SettingWithCopyWarning: \n",
      "A value is trying to be set on a copy of a slice from a DataFrame\n",
      "\n",
      "See the caveats in the documentation: http://pandas.pydata.org/pandas-docs/stable/indexing.html#indexing-view-versus-copy\n",
      "  self._update_inplace(new_data)\n"
     ]
    },
    {
     "name": "stdout",
     "output_type": "stream",
     "text": [
      "Las primeras 5 observaciones recodificadas de train son:\n",
      "\n",
      "\n",
      "    Loan_ID  Gender  Married  Dependents  Education  Self_Employed  \\\n",
      "1  LP001003       1        1           1          1              0   \n",
      "2  LP001005       1        1           0          1              1   \n",
      "3  LP001006       1        1           0          0              0   \n",
      "4  LP001008       1        0           0          1              0   \n",
      "5  LP001011       1        1           2          1              1   \n",
      "\n",
      "   ApplicantIncome  CoapplicantIncome  LoanAmount  Loan_Amount_Term  \\\n",
      "1             4583             1508.0       128.0             360.0   \n",
      "2             3000                0.0        66.0             360.0   \n",
      "3             2583             2358.0       120.0             360.0   \n",
      "4             6000                0.0       141.0             360.0   \n",
      "5             5417             4196.0       267.0             360.0   \n",
      "\n",
      "   Credit_History  Property_Area  Loan_Status  \n",
      "1             1.0              2            1  \n",
      "2             1.0              1            0  \n",
      "3             1.0              1            0  \n",
      "4             1.0              1            0  \n",
      "5             1.0              1            0  \n",
      "\n",
      "\n",
      "Las primeras 5 observaciones recodificadas de test son:\n",
      "\n",
      "\n",
      "    Loan_ID  Gender  Married  Dependents  Education  Self_Employed  \\\n",
      "1  LP001003       1        1           1          1              0   \n",
      "2  LP001005       1        1           0          1              1   \n",
      "3  LP001006       1        1           0          0              0   \n",
      "4  LP001008       1        0           0          1              0   \n",
      "5  LP001011       1        1           2          1              1   \n",
      "\n",
      "   ApplicantIncome  CoapplicantIncome  LoanAmount  Loan_Amount_Term  \\\n",
      "1             4583             1508.0       128.0             360.0   \n",
      "2             3000                0.0        66.0             360.0   \n",
      "3             2583             2358.0       120.0             360.0   \n",
      "4             6000                0.0       141.0             360.0   \n",
      "5             5417             4196.0       267.0             360.0   \n",
      "\n",
      "   Credit_History  Property_Area  Loan_Status  \n",
      "1             1.0              2            1  \n",
      "2             1.0              1            0  \n",
      "3             1.0              1            0  \n",
      "4             1.0              1            0  \n",
      "5             1.0              1            0  \n"
     ]
    }
   ],
   "source": [
    "test3=test2\n",
    "train3=train2\n",
    "\n",
    "test3.Gender.replace(['Male', 'Female'], [1, 0], inplace=True)\n",
    "test3.Married.replace(['Yes', 'No'], [1, 0], inplace=True)\n",
    "test3.Self_Employed.replace(['Yes', 'No'], [1, 0], inplace=True)\n",
    "test3.Education.replace(['Graduate', 'Not Graduate'], [1, 0], inplace=True)\n",
    "test3.Property_Area.replace(['Rural', 'Urban','Semiurban'], [2, 1, 0,], inplace=True)\n",
    "test3.Dependents.replace(['0','1', '2','3','3+'], [0,1,2,3,4], inplace=True)\n",
    "\n",
    "train3.Gender.replace(['Male', 'Female'], [1, 0], inplace=True)\n",
    "train3.Married.replace(['Yes', 'No'], [1, 0], inplace=True)\n",
    "train3.Self_Employed.replace(['Yes', 'No'], [1, 0], inplace=True)\n",
    "train3.Education.replace(['Graduate', 'Not Graduate'], [1, 0], inplace=True)\n",
    "train3.Property_Area.replace(['Rural', 'Urban','Semiurban'], [2, 1, 0,], inplace=True)\n",
    "train3.Dependents.replace(['0','1', '2','3','3+'], [0,1,2,3,4], inplace=True)\n",
    "train3.Loan_Status.replace(['N', 'Y'], [1, 0], inplace=True)\n",
    "\n",
    "print(\"Las primeras 5 observaciones recodificadas de train son:\")\n",
    "print(\"\\n\")\n",
    "print(train3[0:5])\n",
    "\n",
    "print(\"\\n\")\n",
    "print(\"Las primeras 5 observaciones recodificadas de test son:\")\n",
    "print(\"\\n\")\n",
    "print(train3[0:5])"
   ]
  },
  {
   "cell_type": "markdown",
   "metadata": {},
   "source": [
    "#### 7. Da un resumen de la media, la mediana, desviación estándar, mínimo, máximo de las variables. Adicionalmente usa df[col_name].value_counts() para saber cuántas observaciones se tienen para las variables categóricas."
   ]
  },
  {
   "cell_type": "code",
   "execution_count": 62,
   "metadata": {},
   "outputs": [
    {
     "name": "stdout",
     "output_type": "stream",
     "text": [
      "Summary de la base train:\n",
      "\n",
      "\n",
      "           Gender     Married  Dependents   Education  Self_Employed  \\\n",
      "count  480.000000  480.000000  480.000000  480.000000     480.000000   \n",
      "mean     0.820833    0.647917    0.862500    0.797917       0.137500   \n",
      "std      0.383892    0.478118    1.225107    0.401973       0.344734   \n",
      "min      0.000000    0.000000    0.000000    0.000000       0.000000   \n",
      "25%      1.000000    0.000000    0.000000    1.000000       0.000000   \n",
      "50%      1.000000    1.000000    0.000000    1.000000       0.000000   \n",
      "75%      1.000000    1.000000    2.000000    1.000000       0.000000   \n",
      "max      1.000000    1.000000    4.000000    1.000000       1.000000   \n",
      "\n",
      "       ApplicantIncome  CoapplicantIncome  LoanAmount  Loan_Amount_Term  \\\n",
      "count       480.000000         480.000000  480.000000        480.000000   \n",
      "mean       5364.231250        1581.093583  144.735417        342.050000   \n",
      "std        5668.251251        2617.692267   80.508164         65.212401   \n",
      "min         150.000000           0.000000    9.000000         36.000000   \n",
      "25%        2898.750000           0.000000  100.000000        360.000000   \n",
      "50%        3859.000000        1084.500000  128.000000        360.000000   \n",
      "75%        5852.500000        2253.250000  170.000000        360.000000   \n",
      "max       81000.000000       33837.000000  600.000000        480.000000   \n",
      "\n",
      "       Credit_History  Property_Area  Loan_Status  \n",
      "count      480.000000     480.000000   480.000000  \n",
      "mean         0.854167       0.891667     0.308333  \n",
      "std          0.353307       0.822906     0.462287  \n",
      "min          0.000000       0.000000     0.000000  \n",
      "25%          1.000000       0.000000     0.000000  \n",
      "50%          1.000000       1.000000     0.000000  \n",
      "75%          1.000000       2.000000     1.000000  \n",
      "max          1.000000       2.000000     1.000000  \n",
      "\n",
      "\n",
      "Summary de la base test:\n",
      "\n",
      "\n",
      "           Gender     Married  Dependents   Education  Self_Employed  \\\n",
      "count  289.000000  289.000000  289.000000  289.000000     289.000000   \n",
      "mean     0.795848    0.647059    0.906574    0.775087       0.110727   \n",
      "std      0.403780    0.478714    1.297002    0.418250       0.314338   \n",
      "min      0.000000    0.000000    0.000000    0.000000       0.000000   \n",
      "25%      1.000000    0.000000    0.000000    1.000000       0.000000   \n",
      "50%      1.000000    1.000000    0.000000    1.000000       0.000000   \n",
      "75%      1.000000    1.000000    2.000000    1.000000       0.000000   \n",
      "max      1.000000    1.000000    4.000000    1.000000       1.000000   \n",
      "\n",
      "       ApplicantIncome  CoapplicantIncome  LoanAmount  Loan_Amount_Term  \\\n",
      "count       289.000000         289.000000  289.000000        289.000000   \n",
      "mean       4637.352941        1528.262976  136.792388        342.671280   \n",
      "std        4790.683934        2377.599209   59.699582         65.655503   \n",
      "min           0.000000           0.000000   28.000000          6.000000   \n",
      "25%        2875.000000           0.000000  102.000000        360.000000   \n",
      "50%        3833.000000         879.000000  126.000000        360.000000   \n",
      "75%        5000.000000        2400.000000  158.000000        360.000000   \n",
      "max       72529.000000       24000.000000  460.000000        480.000000   \n",
      "\n",
      "       Credit_History  Property_Area  \n",
      "count      289.000000     289.000000  \n",
      "mean         0.840830       1.006920  \n",
      "std          0.366469       0.781705  \n",
      "min          0.000000       0.000000  \n",
      "25%          1.000000       0.000000  \n",
      "50%          1.000000       1.000000  \n",
      "75%          1.000000       2.000000  \n",
      "max          1.000000       2.000000  \n",
      "\n",
      "\n",
      "El número de observaciones por categoria de cada variable categórica en la base train es:\n",
      "\n",
      "\n",
      "Male      489\n",
      "Female    112\n",
      "Name: Gender, dtype: int64\n",
      "\n",
      "\n",
      "Yes    398\n",
      "No     213\n",
      "Name: Married, dtype: int64\n",
      "\n",
      "\n",
      "No     500\n",
      "Yes     82\n",
      "Name: Self_Employed, dtype: int64\n",
      "\n",
      "\n",
      "Graduate        480\n",
      "Not Graduate    134\n",
      "Name: Education, dtype: int64\n",
      "\n",
      "\n",
      "Semiurban    233\n",
      "Urban        202\n",
      "Rural        179\n",
      "Name: Property_Area, dtype: int64\n",
      "\n",
      "\n",
      "0     345\n",
      "1     102\n",
      "2     101\n",
      "3+     51\n",
      "Name: Dependents, dtype: int64\n",
      "\n",
      "\n",
      "Y    422\n",
      "N    192\n",
      "Name: Loan_Status, dtype: int64\n",
      "\n",
      "\n",
      "El número de observaciones por categoria de cada variable categórica en la base test es:\n",
      "\n",
      "\n",
      "Male      286\n",
      "Female     70\n",
      "Name: Gender, dtype: int64\n",
      "\n",
      "\n",
      "Yes    233\n",
      "No     134\n",
      "Name: Married, dtype: int64\n",
      "\n",
      "\n",
      "No     307\n",
      "Yes     37\n",
      "Name: Self_Employed, dtype: int64\n",
      "\n",
      "\n",
      "Graduate        283\n",
      "Not Graduate     84\n",
      "Name: Education, dtype: int64\n",
      "\n",
      "\n",
      "Urban        140\n",
      "Semiurban    116\n",
      "Rural        111\n",
      "Name: Property_Area, dtype: int64\n",
      "\n",
      "\n",
      "0     200\n",
      "2      59\n",
      "1      58\n",
      "3+     40\n",
      "Name: Dependents, dtype: int64\n",
      "\n",
      "\n"
     ]
    }
   ],
   "source": [
    "print(\"Summary de la base train:\")\n",
    "print(\"\\n\")\n",
    "print(train3.describe())\n",
    "\n",
    "print(\"\\n\")\n",
    "print(\"Summary de la base test:\")\n",
    "print(\"\\n\")\n",
    "print(test3.describe())\n",
    "print(\"\\n\")\n",
    "\n",
    "\n",
    "print(\"El número de observaciones por categoria de cada variable categórica en la base train es:\")\n",
    "print(\"\\n\")\n",
    "print(train['Gender'].value_counts())\n",
    "print(\"\\n\")\n",
    "print(train['Married'].value_counts())\n",
    "print(\"\\n\")\n",
    "print(train['Self_Employed'].value_counts())\n",
    "print(\"\\n\")\n",
    "print(train['Education'].value_counts())\n",
    "print(\"\\n\")\n",
    "print(train['Property_Area'].value_counts())\n",
    "print(\"\\n\")\n",
    "print(train['Dependents'].value_counts())\n",
    "print(\"\\n\")\n",
    "print(train['Loan_Status'].value_counts())\n",
    "print(\"\\n\")\n",
    "\n",
    "\n",
    "print(\"El número de observaciones por categoria de cada variable categórica en la base test es:\")\n",
    "print(\"\\n\")\n",
    "print(test['Gender'].value_counts())\n",
    "print(\"\\n\")\n",
    "print(test['Married'].value_counts())\n",
    "print(\"\\n\")\n",
    "print(test['Self_Employed'].value_counts())\n",
    "print(\"\\n\")\n",
    "print(test['Education'].value_counts())\n",
    "print(\"\\n\")\n",
    "print(test['Property_Area'].value_counts())\n",
    "print(\"\\n\")\n",
    "print(test['Dependents'].value_counts())\n",
    "print(\"\\n\")\n"
   ]
  },
  {
   "cell_type": "markdown",
   "metadata": {},
   "source": [
    "#### 8. Para las variables categóricas, usa una crosstab para saber si se les da más créditos a las mujeres que a los hombres. Usa otra crosstab para saber si el hecho de tener historial crediticio hace que sea más fácil que te aprueben un crédito. ¿Cuáles son tus conclusiones? "
   ]
  },
  {
   "cell_type": "code",
   "execution_count": 34,
   "metadata": {},
   "outputs": [
    {
     "name": "stdout",
     "output_type": "stream",
     "text": [
      "\n",
      "\n",
      "Conteos por género y estátus de crédito en la base train:\n",
      "\n",
      "\n",
      "Loan_Status    N    Y  All\n",
      "Gender                    \n",
      "Female        32   54   86\n",
      "Male         116  278  394\n",
      "All          148  332  480\n",
      "\n",
      "\n",
      "Conteos por Historial crediticio y estátus de crédito en la base train:\n",
      "\n",
      "\n",
      "Loan_Status       N    Y  All\n",
      "Credit_History               \n",
      "0.0              63    7   70\n",
      "1.0              85  325  410\n",
      "All             148  332  480\n"
     ]
    }
   ],
   "source": [
    "train = pd.read_csv(io.StringIO(s1.decode('utf-8')))\n",
    "test = pd.read_csv(io.StringIO(s2.decode('utf-8')))\n",
    "\n",
    "train2=train.dropna()\n",
    "test2=test.dropna()\n",
    "\n",
    "print(\"\\n\")\n",
    "print(\"Conteos por género y estátus de crédito en la base train:\")\n",
    "print(\"\\n\")\n",
    "print(pd.crosstab(train2[\"Gender\"],train2[\"Loan_Status\"],margins=True))\n",
    "\n",
    "print(\"\\n\")\n",
    "print(\"Conteos por Historial crediticio y estátus de crédito en la base train:\")\n",
    "print(\"\\n\")\n",
    "print(pd.crosstab(train2[\"Credit_History\"],train2[\"Loan_Status\"],margins=True))\n"
   ]
  },
  {
   "cell_type": "markdown",
   "metadata": {},
   "source": [
    "BONUS: Investiga cómo poner porcentajes en estas tabla en vez de números."
   ]
  },
  {
   "cell_type": "code",
   "execution_count": 64,
   "metadata": {},
   "outputs": [
    {
     "name": "stdout",
     "output_type": "stream",
     "text": [
      "Distribución del estátus de crédito en la base train sobre el total de género:\n",
      "\n",
      "\n",
      "Loan_Status          N          Y\n",
      "Gender                           \n",
      "Female       37.209302  62.790698\n",
      "Male         29.441624  70.558376\n",
      "\n",
      "\n",
      "\n",
      "\n",
      "Distribución del estátus de crédito en la base train sobre el total de historial crediticio:\n",
      "\n",
      "\n",
      "Loan_Status             N          Y\n",
      "Credit_History                      \n",
      "0.0             90.000000  10.000000\n",
      "1.0             20.731707  79.268293\n",
      "\n",
      "\n",
      "\n",
      "\n",
      "Del total de mujeres que solicitaron un crédito, tan solo al 62.7% se les otorgó, mientras que del total de hombres que lo solicitaron, al 70% se les otorgó. Es decir, existe una pequeña ventaja de ser acreedor a un crédito siendo hombre el solicitante.\n",
      "\n",
      "\n",
      "Por otra parte, si previamente ya has tenido un crédito, tus probabilidades de ser acreedor a otro son del 79%. Si se trata de tu primer crédito, tienes solo u 10% de probabilidad de que te lo den\n"
     ]
    },
    {
     "data": {
      "image/png": "[encoded data removed]",
      "text/plain": [
       "<matplotlib.figure.Figure at 0x1114eef28>"
      ]
     },
     "metadata": {},
     "output_type": "display_data"
    },
    {
     "data": {
      "image/png": "[encoded data removed]",
      "text/plain": [
       "<matplotlib.figure.Figure at 0x111d50f28>"
      ]
     },
     "metadata": {},
     "output_type": "display_data"
    }
   ],
   "source": [
    "print(\"Distribución del estátus de crédito en la base train sobre el total de género:\")\n",
    "print(\"\\n\")\n",
    "print(pd.crosstab(train2[\"Gender\"],train2[\"Loan_Status\"]).apply(lambda r: r/r.sum() *100,axis=1))\n",
    "print(\"\\n\")\n",
    "plot = pd.crosstab(index=train2['Gender'],columns=train2['Loan_Status']).apply(lambda r: r/r.sum() *100,axis=1).plot(kind='bar')\n",
    "\n",
    "\n",
    "print(\"\\n\")\n",
    "print(\"Distribución del estátus de crédito en la base train sobre el total de historial crediticio:\")\n",
    "print(\"\\n\")\n",
    "print(pd.crosstab(train2[\"Credit_History\"],train2[\"Loan_Status\"]).apply(lambda r: r/r.sum() *100,axis=1))\n",
    "print(\"\\n\")\n",
    "plot = pd.crosstab(index=train2['Credit_History'],columns=train2['Loan_Status']).apply(lambda r: r/r.sum() *100,axis=1).plot(kind='bar')\n",
    "\n",
    "print(\"\\n\")\n",
    "print(\"Del total de mujeres que solicitaron un crédito, tan solo al 62.7% se les otorgó, mientras que del total de hombres que lo solicitaron, al 70% se les otorgó. Es decir, existe una pequeña ventaja de ser acreedor a un crédito siendo hombre el solicitante.\")\n",
    "print(\"\\n\")\n",
    "print(\"Por otra parte, si previamente ya has tenido un crédito, tus probabilidades de ser acreedor a otro son del 79%. Si se trata de tu primer crédito, tienes solo u 10% de probabilidad de que te lo den\")"
   ]
  },
  {
   "cell_type": "markdown",
   "metadata": {},
   "source": [
    "#### 9. Haz un histograma para el ingreso de la persona y otro para la cantidad prestada. ¿Qué observas?"
   ]
  },
  {
   "cell_type": "code",
   "execution_count": 47,
   "metadata": {},
   "outputs": [
    {
     "name": "stdout",
     "output_type": "stream",
     "text": [
      "Histograma de ingreso\n",
      "AxesSubplot(0.125,0.125;0.775x0.755)\n",
      "\n",
      "\n",
      "La mayoría de las personas que solicitan un crédito tienen un sueldo menor a $10,000\n"
     ]
    },
    {
     "data": {
      "image/png": "[encoded data removed]",
      "text/plain": [
       "<matplotlib.figure.Figure at 0x1114ea550>"
      ]
     },
     "metadata": {},
     "output_type": "display_data"
    }
   ],
   "source": [
    "print(\"Histograma de ingreso\")\n",
    "print(train2['ApplicantIncome'].hist(bins=10))\n",
    "print(\"\\n\")\n",
    "print(\"La mayoría de las personas que solicitan un crédito tienen un sueldo menor a $10,000\")\n"
   ]
  },
  {
   "cell_type": "code",
   "execution_count": 48,
   "metadata": {},
   "outputs": [
    {
     "name": "stdout",
     "output_type": "stream",
     "text": [
      "Histograma de monto de crédito\n",
      "AxesSubplot(0.125,0.125;0.775x0.755)\n",
      "\n",
      "\n",
      "La mayoría de las personas que solicitan un crédito lo hacen por un monto de entre a $100 y $200\n"
     ]
    },
    {
     "data": {
      "image/png": "[encoded data removed]",
      "text/plain": [
       "<matplotlib.figure.Figure at 0x11171d908>"
      ]
     },
     "metadata": {},
     "output_type": "display_data"
    }
   ],
   "source": [
    "print(\"Histograma de monto de crédito\")\n",
    "print(train2['LoanAmount'].hist(bins=10))\n",
    "print(\"\\n\")\n",
    "print(\"La mayoría de las personas que solicitan un crédito lo hacen por un monto de entre a $100 y $200\")"
   ]
  },
  {
   "cell_type": "markdown",
   "metadata": {},
   "source": [
    "#### 10. Haz un boxplot para la cantidad del préstamo según el historial crediticio de la persona. ¿Hay diferencias en la cantidad prestada dependiendo si tiene historial o no? Repite el mismo boxplot pero ahora según el sexo. ¿Hay diferencias?"
   ]
  },
  {
   "cell_type": "code",
   "execution_count": 51,
   "metadata": {},
   "outputs": [
    {
     "name": "stdout",
     "output_type": "stream",
     "text": [
      "\n",
      "\n",
      "Boxplot de monto del crédito\n",
      "AxesSubplot(0.125,0.125;0.775x0.755)\n"
     ]
    },
    {
     "data": {
      "image/png": "[encoded data removed]",
      "text/plain": [
       "<matplotlib.figure.Figure at 0x1118394e0>"
      ]
     },
     "metadata": {},
     "output_type": "display_data"
    }
   ],
   "source": [
    "print(\"\\n\")\n",
    "print(\"Boxplot de monto del crédito\")\n",
    "print(train2.boxplot(column=['LoanAmount']))\n"
   ]
  },
  {
   "cell_type": "code",
   "execution_count": 52,
   "metadata": {},
   "outputs": [
    {
     "name": "stdout",
     "output_type": "stream",
     "text": [
      "\n",
      "\n",
      "Boxplot de monto del crédito por género del solicitante\n",
      "AxesSubplot(0.1,0.15;0.8x0.75)\n"
     ]
    },
    {
     "data": {
      "image/png": "[encoded data removed]",
      "text/plain": [
       "<matplotlib.figure.Figure at 0x10d97a2e8>"
      ]
     },
     "metadata": {},
     "output_type": "display_data"
    }
   ],
   "source": [
    "print(\"\\n\")\n",
    "print(\"Boxplot de monto del crédito por género del solicitante\")\n",
    "print(train2.boxplot(column=['LoanAmount'], by='Gender'))\n",
    "print(\"\\n\")\n",
    "print(\"El monto promedio de los créditos es apenas mayor cuando el solicitante es Hombre\")"
   ]
  },
  {
   "cell_type": "code",
   "execution_count": 56,
   "metadata": {},
   "outputs": [
    {
     "name": "stdout",
     "output_type": "stream",
     "text": [
      "\n",
      "\n",
      "Boxplot de monto del crédito por historia crediticia de los solicitantes\n",
      "AxesSubplot(0.1,0.15;0.8x0.75)\n",
      "\n",
      "\n",
      "Si un cliente tuvo previamente otro crédito no discrimina el monto del préstamo, sin embargo, cuando ya se cuenta con prestamos previos, suele haber montos por encima del tercer cuartil de la distribución de los montos\n"
     ]
    },
    {
     "data": {
      "image/png": "[encoded data removed]",
      "text/plain": [
       "<matplotlib.figure.Figure at 0x111a96c88>"
      ]
     },
     "metadata": {},
     "output_type": "display_data"
    }
   ],
   "source": [
    "print(\"\\n\")\n",
    "print(\"Boxplot de monto del crédito por historia crediticia de los solicitantes\")\n",
    "print(train2.boxplot(column=['LoanAmount'], by='Credit_History'))\n",
    "print(\"\\n\")\n",
    "print(\"Si un cliente tuvo previamente otro crédito no discrimina el monto del préstamo, sin embargo, cuando ya se cuenta con prestamos previos, suele haber montos por encima del tercer cuartil de la distribución de los montos\")"
   ]
  },
  {
   "cell_type": "code",
   "execution_count": null,
   "metadata": {},
   "outputs": [],
   "source": []
  }
 ],
 "metadata": {
  "kernelspec": {
   "display_name": "Python 3",
   "language": "python",
   "name": "python3"
  },
  "language_info": {
   "codemirror_mode": {
    "name": "ipython",
    "version": 3
   },
   "file_extension": ".py",
   "mimetype": "text/x-python",
   "name": "python",
   "nbconvert_exporter": "python",
   "pygments_lexer": "ipython3",
   "version": "3.6.4"
  }
 },
 "nbformat": 4,
 "nbformat_minor": 2
}
